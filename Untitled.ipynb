{
 "cells": [
  {
   "cell_type": "code",
   "execution_count": 1,
   "metadata": {},
   "outputs": [],
   "source": [
    "import numpy as np\n",
    "import pandas as pd\n",
    "import matplotlib.pyplot as plt"
   ]
  },
  {
   "cell_type": "code",
   "execution_count": 2,
   "metadata": {},
   "outputs": [],
   "source": [
    "X=pd.read_csv('Iris.csv')"
   ]
  },
  {
   "cell_type": "code",
   "execution_count": 3,
   "metadata": {},
   "outputs": [],
   "source": [
    "X=np.array(X)"
   ]
  },
  {
   "cell_type": "code",
   "execution_count": 9,
   "metadata": {},
   "outputs": [
    {
     "data": {
      "text/plain": [
       "150"
      ]
     },
     "execution_count": 9,
     "metadata": {},
     "output_type": "execute_result"
    }
   ],
   "source": [
    "len(X)"
   ]
  },
  {
   "cell_type": "code",
   "execution_count": 4,
   "metadata": {},
   "outputs": [],
   "source": [
    "values=[]\n",
    "x=[]\n",
    "for i in X:\n",
    "    values.append(i[5])\n",
    "    x.append(i[1:5])\n",
    "values=np.array(values)\n",
    "x=np.array(x)"
   ]
  },
  {
   "cell_type": "code",
   "execution_count": 5,
   "metadata": {},
   "outputs": [
    {
     "name": "stderr",
     "output_type": "stream",
     "text": [
      "/usr/local/lib/python3.6/dist-packages/sklearn/preprocessing/_encoders.py:415: FutureWarning: The handling of integer data will change in version 0.22. Currently, the categories are determined based on the range [0, max(values)], while in the future they will be determined based on the unique values.\n",
      "If you want the future behaviour and silence this warning, you can specify \"categories='auto'\".\n",
      "In case you used a LabelEncoder before this OneHotEncoder to convert the categories to integers, then you can now use the OneHotEncoder directly.\n",
      "  warnings.warn(msg, FutureWarning)\n"
     ]
    }
   ],
   "source": [
    "from sklearn.preprocessing import LabelEncoder\n",
    "from sklearn.preprocessing import OneHotEncoder\n",
    "\n",
    "label_encoder = LabelEncoder()\n",
    "integer_encoded = label_encoder.fit_transform(values)\n",
    "\n",
    "onehot_encoder = OneHotEncoder(sparse=False)\n",
    "integer_encoded = integer_encoded.reshape(len(integer_encoded), 1)\n",
    "onehot_encoded = onehot_encoder.fit_transform(integer_encoded)"
   ]
  },
  {
   "cell_type": "code",
   "execution_count": 6,
   "metadata": {},
   "outputs": [],
   "source": [
    "from sklearn.model_selection import train_test_split\n",
    "x_train, x_test, y_train, y_test = train_test_split(x,onehot_encoded, test_size = 0.2, random_state = 0)"
   ]
  },
  {
   "cell_type": "code",
   "execution_count": 9,
   "metadata": {},
   "outputs": [
    {
     "name": "stdout",
     "output_type": "stream",
     "text": [
      "Epoch 1/100\n",
      "120/120 [==============================] - 0s 3ms/step - loss: 0.9508 - acc: 0.4583\n",
      "Epoch 2/100\n",
      "120/120 [==============================] - 0s 102us/step - loss: 0.8067 - acc: 0.6917\n",
      "Epoch 3/100\n",
      "120/120 [==============================] - 0s 96us/step - loss: 0.6945 - acc: 0.6917\n",
      "Epoch 4/100\n",
      "120/120 [==============================] - 0s 119us/step - loss: 0.5990 - acc: 0.7000\n",
      "Epoch 5/100\n",
      "120/120 [==============================] - 0s 82us/step - loss: 0.5238 - acc: 0.7417\n",
      "Epoch 6/100\n",
      "120/120 [==============================] - 0s 90us/step - loss: 0.4592 - acc: 0.8417\n",
      "Epoch 7/100\n",
      "120/120 [==============================] - 0s 85us/step - loss: 0.4090 - acc: 0.9000\n",
      "Epoch 8/100\n",
      "120/120 [==============================] - 0s 117us/step - loss: 0.3623 - acc: 0.8917\n",
      "Epoch 9/100\n",
      "120/120 [==============================] - 0s 126us/step - loss: 0.3267 - acc: 0.9083\n",
      "Epoch 10/100\n",
      "120/120 [==============================] - 0s 114us/step - loss: 0.2947 - acc: 0.9750\n",
      "Epoch 11/100\n",
      "120/120 [==============================] - 0s 120us/step - loss: 0.2686 - acc: 0.9417\n",
      "Epoch 12/100\n",
      "120/120 [==============================] - 0s 115us/step - loss: 0.2357 - acc: 0.9583\n",
      "Epoch 13/100\n",
      "120/120 [==============================] - 0s 101us/step - loss: 0.2170 - acc: 0.9750\n",
      "Epoch 14/100\n",
      "120/120 [==============================] - 0s 107us/step - loss: 0.1963 - acc: 0.9667\n",
      "Epoch 15/100\n",
      "120/120 [==============================] - 0s 98us/step - loss: 0.1919 - acc: 0.9417\n",
      "Epoch 16/100\n",
      "120/120 [==============================] - 0s 98us/step - loss: 0.1979 - acc: 0.9333\n",
      "Epoch 17/100\n",
      "120/120 [==============================] - 0s 148us/step - loss: 0.2019 - acc: 0.9250\n",
      "Epoch 18/100\n",
      "120/120 [==============================] - 0s 166us/step - loss: 0.1608 - acc: 0.9583\n",
      "Epoch 19/100\n",
      "120/120 [==============================] - 0s 132us/step - loss: 0.1564 - acc: 0.9333\n",
      "Epoch 20/100\n",
      "120/120 [==============================] - 0s 94us/step - loss: 0.1410 - acc: 0.9583\n",
      "Epoch 21/100\n",
      "120/120 [==============================] - 0s 157us/step - loss: 0.1251 - acc: 0.9750\n",
      "Epoch 22/100\n",
      "120/120 [==============================] - 0s 134us/step - loss: 0.1244 - acc: 0.9583\n",
      "Epoch 23/100\n",
      "120/120 [==============================] - 0s 98us/step - loss: 0.1212 - acc: 0.9667\n",
      "Epoch 24/100\n",
      "120/120 [==============================] - 0s 177us/step - loss: 0.1166 - acc: 0.9667\n",
      "Epoch 25/100\n",
      "120/120 [==============================] - 0s 116us/step - loss: 0.1134 - acc: 0.9667\n",
      "Epoch 26/100\n",
      "120/120 [==============================] - 0s 80us/step - loss: 0.1096 - acc: 0.9667\n",
      "Epoch 27/100\n",
      "120/120 [==============================] - 0s 67us/step - loss: 0.1193 - acc: 0.9417\n",
      "Epoch 28/100\n",
      "120/120 [==============================] - 0s 100us/step - loss: 0.1383 - acc: 0.9583\n",
      "Epoch 29/100\n",
      "120/120 [==============================] - 0s 102us/step - loss: 0.0978 - acc: 0.9667\n",
      "Epoch 30/100\n",
      "120/120 [==============================] - 0s 119us/step - loss: 0.1248 - acc: 0.9417\n",
      "Epoch 31/100\n",
      "120/120 [==============================] - 0s 146us/step - loss: 0.1336 - acc: 0.9583\n",
      "Epoch 32/100\n",
      "120/120 [==============================] - 0s 128us/step - loss: 0.1000 - acc: 0.9750\n",
      "Epoch 33/100\n",
      "120/120 [==============================] - 0s 134us/step - loss: 0.1183 - acc: 0.9333\n",
      "Epoch 34/100\n",
      "120/120 [==============================] - 0s 67us/step - loss: 0.1009 - acc: 0.9667\n",
      "Epoch 35/100\n",
      "120/120 [==============================] - 0s 80us/step - loss: 0.0944 - acc: 0.9750\n",
      "Epoch 36/100\n",
      "120/120 [==============================] - 0s 131us/step - loss: 0.0913 - acc: 0.9750\n",
      "Epoch 37/100\n",
      "120/120 [==============================] - 0s 145us/step - loss: 0.0892 - acc: 0.9750\n",
      "Epoch 38/100\n",
      "120/120 [==============================] - 0s 132us/step - loss: 0.0928 - acc: 0.9750\n",
      "Epoch 39/100\n",
      "120/120 [==============================] - 0s 129us/step - loss: 0.0875 - acc: 0.9750\n",
      "Epoch 40/100\n",
      "120/120 [==============================] - 0s 152us/step - loss: 0.0890 - acc: 0.9750\n",
      "Epoch 41/100\n",
      "120/120 [==============================] - 0s 118us/step - loss: 0.0864 - acc: 0.9750\n",
      "Epoch 42/100\n",
      "120/120 [==============================] - 0s 92us/step - loss: 0.0947 - acc: 0.9667\n",
      "Epoch 43/100\n",
      "120/120 [==============================] - 0s 143us/step - loss: 0.0876 - acc: 0.9583\n",
      "Epoch 44/100\n",
      "120/120 [==============================] - 0s 121us/step - loss: 0.1093 - acc: 0.9583\n",
      "Epoch 45/100\n",
      "120/120 [==============================] - 0s 91us/step - loss: 0.0884 - acc: 0.9583\n",
      "Epoch 46/100\n",
      "120/120 [==============================] - 0s 125us/step - loss: 0.0899 - acc: 0.9667\n",
      "Epoch 47/100\n",
      "120/120 [==============================] - 0s 108us/step - loss: 0.0983 - acc: 0.9667\n",
      "Epoch 48/100\n",
      "120/120 [==============================] - 0s 94us/step - loss: 0.0945 - acc: 0.9500\n",
      "Epoch 49/100\n",
      "120/120 [==============================] - 0s 141us/step - loss: 0.0978 - acc: 0.9750\n",
      "Epoch 50/100\n",
      "120/120 [==============================] - 0s 167us/step - loss: 0.0929 - acc: 0.9500\n",
      "Epoch 51/100\n",
      "120/120 [==============================] - 0s 120us/step - loss: 0.0873 - acc: 0.9750\n",
      "Epoch 52/100\n",
      "120/120 [==============================] - 0s 78us/step - loss: 0.0828 - acc: 0.9833\n",
      "Epoch 53/100\n",
      "120/120 [==============================] - 0s 117us/step - loss: 0.0801 - acc: 0.9833\n",
      "Epoch 54/100\n",
      "120/120 [==============================] - 0s 113us/step - loss: 0.0816 - acc: 0.9833\n",
      "Epoch 55/100\n",
      "120/120 [==============================] - 0s 128us/step - loss: 0.0844 - acc: 0.9750\n",
      "Epoch 56/100\n",
      "120/120 [==============================] - 0s 87us/step - loss: 0.0916 - acc: 0.9667\n",
      "Epoch 57/100\n",
      "120/120 [==============================] - 0s 88us/step - loss: 0.0822 - acc: 0.9667\n",
      "Epoch 58/100\n",
      "120/120 [==============================] - 0s 90us/step - loss: 0.1069 - acc: 0.9667\n",
      "Epoch 59/100\n",
      "120/120 [==============================] - 0s 94us/step - loss: 0.0953 - acc: 0.9500\n",
      "Epoch 60/100\n",
      "120/120 [==============================] - 0s 102us/step - loss: 0.1083 - acc: 0.9500\n",
      "Epoch 61/100\n",
      "120/120 [==============================] - 0s 92us/step - loss: 0.0848 - acc: 0.9583\n",
      "Epoch 62/100\n",
      "120/120 [==============================] - 0s 94us/step - loss: 0.0958 - acc: 0.9500\n",
      "Epoch 63/100\n",
      "120/120 [==============================] - 0s 103us/step - loss: 0.0769 - acc: 0.9750\n",
      "Epoch 64/100\n",
      "120/120 [==============================] - 0s 93us/step - loss: 0.0793 - acc: 0.9750\n",
      "Epoch 65/100\n",
      "120/120 [==============================] - 0s 149us/step - loss: 0.0745 - acc: 0.9833\n",
      "Epoch 66/100\n",
      "120/120 [==============================] - 0s 111us/step - loss: 0.0756 - acc: 0.9833\n",
      "Epoch 67/100\n",
      "120/120 [==============================] - 0s 94us/step - loss: 0.0757 - acc: 0.9833\n",
      "Epoch 68/100\n",
      "120/120 [==============================] - 0s 154us/step - loss: 0.0771 - acc: 0.9833\n",
      "Epoch 69/100\n",
      "120/120 [==============================] - 0s 92us/step - loss: 0.0792 - acc: 0.9833\n",
      "Epoch 70/100\n",
      "120/120 [==============================] - 0s 99us/step - loss: 0.0745 - acc: 0.9750\n",
      "Epoch 71/100\n",
      "120/120 [==============================] - 0s 104us/step - loss: 0.0864 - acc: 0.9667\n",
      "Epoch 72/100\n",
      "120/120 [==============================] - 0s 106us/step - loss: 0.0844 - acc: 0.9500\n",
      "Epoch 73/100\n",
      "120/120 [==============================] - 0s 72us/step - loss: 0.0703 - acc: 0.9833\n",
      "Epoch 74/100\n",
      "120/120 [==============================] - 0s 85us/step - loss: 0.0925 - acc: 0.9667\n",
      "Epoch 75/100\n",
      "120/120 [==============================] - 0s 84us/step - loss: 0.0994 - acc: 0.9333\n",
      "Epoch 76/100\n",
      "120/120 [==============================] - 0s 71us/step - loss: 0.0727 - acc: 0.9583\n",
      "Epoch 77/100\n",
      "120/120 [==============================] - 0s 96us/step - loss: 0.0849 - acc: 0.9667\n",
      "Epoch 78/100\n",
      "120/120 [==============================] - 0s 94us/step - loss: 0.0746 - acc: 0.9833\n",
      "Epoch 79/100\n",
      "120/120 [==============================] - 0s 107us/step - loss: 0.0728 - acc: 0.9750\n",
      "Epoch 80/100\n",
      "120/120 [==============================] - 0s 86us/step - loss: 0.0789 - acc: 0.9750\n",
      "Epoch 81/100\n",
      "120/120 [==============================] - 0s 96us/step - loss: 0.0858 - acc: 0.9583\n",
      "Epoch 82/100\n",
      "120/120 [==============================] - 0s 90us/step - loss: 0.0668 - acc: 0.9833\n",
      "Epoch 83/100\n",
      "120/120 [==============================] - 0s 91us/step - loss: 0.0810 - acc: 0.9750\n",
      "Epoch 84/100\n"
     ]
    },
    {
     "name": "stdout",
     "output_type": "stream",
     "text": [
      "120/120 [==============================] - 0s 93us/step - loss: 0.0703 - acc: 0.9833\n",
      "Epoch 85/100\n",
      "120/120 [==============================] - 0s 86us/step - loss: 0.0719 - acc: 0.9750\n",
      "Epoch 86/100\n",
      "120/120 [==============================] - 0s 85us/step - loss: 0.0776 - acc: 0.9750\n",
      "Epoch 87/100\n",
      "120/120 [==============================] - 0s 86us/step - loss: 0.0720 - acc: 0.9750\n",
      "Epoch 88/100\n",
      "120/120 [==============================] - 0s 91us/step - loss: 0.0721 - acc: 0.9833\n",
      "Epoch 89/100\n",
      "120/120 [==============================] - 0s 78us/step - loss: 0.0720 - acc: 0.9833\n",
      "Epoch 90/100\n",
      "120/120 [==============================] - 0s 76us/step - loss: 0.0737 - acc: 0.9750\n",
      "Epoch 91/100\n",
      "120/120 [==============================] - 0s 73us/step - loss: 0.0874 - acc: 0.9417\n",
      "Epoch 92/100\n",
      "120/120 [==============================] - 0s 71us/step - loss: 0.0927 - acc: 0.9750\n",
      "Epoch 93/100\n",
      "120/120 [==============================] - 0s 92us/step - loss: 0.0894 - acc: 0.9583\n",
      "Epoch 94/100\n",
      "120/120 [==============================] - 0s 84us/step - loss: 0.0883 - acc: 0.9500\n",
      "Epoch 95/100\n",
      "120/120 [==============================] - 0s 75us/step - loss: 0.1064 - acc: 0.9667\n",
      "Epoch 96/100\n",
      "120/120 [==============================] - 0s 83us/step - loss: 0.1020 - acc: 0.9583\n",
      "Epoch 97/100\n",
      "120/120 [==============================] - 0s 87us/step - loss: 0.0843 - acc: 0.9750\n",
      "Epoch 98/100\n",
      "120/120 [==============================] - 0s 102us/step - loss: 0.1063 - acc: 0.9500\n",
      "Epoch 99/100\n",
      "120/120 [==============================] - 0s 77us/step - loss: 0.0920 - acc: 0.9583\n",
      "Epoch 100/100\n",
      "120/120 [==============================] - 0s 83us/step - loss: 0.0580 - acc: 0.9833\n"
     ]
    },
    {
     "data": {
      "text/plain": [
       "<keras.callbacks.History at 0x7f88f0204a90>"
      ]
     },
     "execution_count": 9,
     "metadata": {},
     "output_type": "execute_result"
    }
   ],
   "source": [
    "from keras.models import Sequential\n",
    "from keras.layers import Dense\n",
    "\n",
    "model = Sequential()\n",
    "\n",
    "model.add(Dense(units=50, activation='relu', input_dim=4))\n",
    "model.add(Dense(units=100, activation='relu'))\n",
    "model.add(Dense(units=100, activation='relu'))\n",
    "model.add(Dense(units=50, activation='relu'))\n",
    "model.add(Dense(units=3, activation='softmax'))\n",
    "\n",
    "model.compile(loss='categorical_crossentropy',\n",
    "              optimizer='adam',\n",
    "              metrics=['accuracy'])\n",
    "\n",
    "model.fit(x_train, y_train, epochs=100, batch_size=32)"
   ]
  },
  {
   "cell_type": "code",
   "execution_count": 10,
   "metadata": {},
   "outputs": [
    {
     "name": "stdout",
     "output_type": "stream",
     "text": [
      "\r",
      "30/30 [==============================] - 0s 3ms/step\n"
     ]
    },
    {
     "data": {
      "text/plain": [
       "[0.028383243829011917, 1.0]"
      ]
     },
     "execution_count": 10,
     "metadata": {},
     "output_type": "execute_result"
    }
   ],
   "source": [
    "model.evaluate(x_test, y_test, batch_size=128)"
   ]
  },
  {
   "cell_type": "code",
   "execution_count": null,
   "metadata": {},
   "outputs": [],
   "source": []
  }
 ],
 "metadata": {
  "kernelspec": {
   "display_name": "Python 3",
   "language": "python",
   "name": "python3"
  },
  "language_info": {
   "codemirror_mode": {
    "name": "ipython",
    "version": 3
   },
   "file_extension": ".py",
   "mimetype": "text/x-python",
   "name": "python",
   "nbconvert_exporter": "python",
   "pygments_lexer": "ipython3",
   "version": "3.6.8"
  }
 },
 "nbformat": 4,
 "nbformat_minor": 2
}
